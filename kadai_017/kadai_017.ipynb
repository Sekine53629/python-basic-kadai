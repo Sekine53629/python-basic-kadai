{
  "cells": [
    {
      "cell_type": "code",
      "execution_count": null,
      "metadata": {
        "id": "MivkXYYr_Djk"
      },
      "outputs": [
        {
          "name": "stdout",
          "output_type": "stream",
          "text": [
            "=== 作成されたデータ ===\n",
            "1. taroさん（13歳）\n",
            "2. hanakoさん（32歳）\n",
            "3. takeshiさん（97歳）\n",
            "4. sayakaさん（98歳）\n",
            "5. musashiさん（89歳）\n",
            "\n",
            "--- 成人チェック結果 ---\n",
            "taroさんは、未成年です。\n",
            "お酒は二十歳になってから\n",
            "hanakoさんは、成人しています\n",
            "takeshiさんは、成人しています\n",
            "sayakaさんは、成人しています\n",
            "musashiさんは、成人しています\n"
          ]
        }
      ],
      "source": [
        "\"\"\"\n",
        "課題の目標\n",
        "本教材で学習したテクニックを組み合わせてコードを記述すること\n",
        "課題の内容\n",
        "名前(name)と年齢(age)の属性を持つHumanクラスを作成してください。\n",
        "\n",
        "Humanクラスには、以下の条件で標準出力(print)するcheck_adultメソッドを追加してください。\n",
        "\n",
        "ageが20以上の場合に大人であること\n",
        "そうでない場合に大人でないこと\n",
        "Humanクラスのインスタンスを複数生成してリストに追加し、リストの要素数分だけcheck_adultメソッドを呼び出してください。\n",
        "\n",
        "合格基準\n",
        "本課題の目標は、課題を通して以下の項目が身についているかどうか確認することです。\n",
        "\n",
        "本教材で学習したテクニックを組み合わせてコードを記述すること。\n",
        "そのため、以下の項目がすべて満たされていれば合格です。\n",
        "\n",
        "番号\t合格基準\n",
        "1\t本教材で学習した「リスト・ディクショナリ」「条件分岐」「繰り返し処理」「関数」「変数のスコープ」「クラス」を用いて、\n",
        "「課題の内容」の仕様通りのプログラムが記述されている\n",
        "\"\"\"\n",
        "import random\n",
        "\n",
        "class Human:\n",
        "    def __init__(self, name, age):\n",
        "        self.name = name\n",
        "        self.age = age\n",
        "    \n",
        "    def check_adult(self):\n",
        "        if self.age >= 20:\n",
        "            print(f\"{self.name}さんは、成人しています\")\n",
        "        else:\n",
        "            print(f\"{self.name}さんは、未成年です。\\nお酒は二十歳になってから\")\n",
        "\n",
        "def create_human_data(names_list):\n",
        "    data_list = []\n",
        "    \n",
        "    for name in names_list:\n",
        "        person_data = {\n",
        "            \"name\": name,\n",
        "            \"age\": random.randint(1, 100)\n",
        "        }\n",
        "        data_list.append(person_data)\n",
        "    \n",
        "    return data_list\n",
        "\n",
        "def create_human_instances(people_data):\n",
        "    instances = []\n",
        "    \n",
        "    for data in people_data:\n",
        "        human = Human(data[\"name\"], data[\"age\"])\n",
        "        instances.append(human)\n",
        "    \n",
        "    return instances\n",
        "\n",
        "def display_all_status(humans_list):\n",
        "    \"\"\"\n",
        "    すべてのHumanインスタンスの成人チェックを実行する関数\n",
        "    \"\"\"\n",
        "    print(\"\\n--- 成人チェック結果 ---\")\n",
        "    \n",
        "    for human in humans_list:\n",
        "        human.check_adult()\n",
        "\n",
        "names = [\"taro\", \"hanako\", \"takeshi\", \"sayaka\", \"musashi\"]\n",
        "    \n",
        "people_data = create_human_data(names)\n",
        "\n",
        "print(\"=== 作成されたデータ ===\")\n",
        "for i, person in enumerate(people_data):\n",
        "    print(f\"{i+1}. {person['name']}さん（{person['age']}歳）\")\n",
        "\n",
        "humans = create_human_instances(people_data)\n",
        "\n",
        "display_all_status(humans)"
      ]
    }
  ],
  "metadata": {
    "colab": {
      "provenance": []
    },
    "kernelspec": {
      "display_name": "Python 3",
      "name": "python3"
    },
    "language_info": {
      "codemirror_mode": {
        "name": "ipython",
        "version": 3
      },
      "file_extension": ".py",
      "mimetype": "text/x-python",
      "name": "python",
      "nbconvert_exporter": "python",
      "pygments_lexer": "ipython3",
      "version": "3.13.5"
    }
  },
  "nbformat": 4,
  "nbformat_minor": 0
}
