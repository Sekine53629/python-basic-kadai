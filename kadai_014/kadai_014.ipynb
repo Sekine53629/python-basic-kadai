{
  "cells": [
    {
      "cell_type": "code",
      "execution_count": 1,
      "metadata": {
        "id": "MivkXYYr_Djk"
      },
      "outputs": [
        {
          "name": "stdout",
          "output_type": "stream",
          "text": [
            "330.0\n"
          ]
        }
      ],
      "source": [
        "\"\"\"\n",
        "課題の目標\n",
        "本課題の目標は以下のとおりです。\n",
        "\n",
        "グローバルスコープとローカルスコープの違いを理解すること。\n",
        "スコープを意識したプログラムが書けるようになること。\n",
        "課題の内容\n",
        "以下のコードを実行するとスコープに関するエラーが発生します。エラーを修正して、正しく計算結果が出力されるようにしてください。\n",
        "\n",
        "price1 = 100\n",
        "price2 = 200\n",
        "\n",
        "def total():\n",
        "    tax = 1.1\n",
        "    return price1 + price2\n",
        "\n",
        "print (total() * tax)\n",
        "Copy\n",
        "\n",
        "合格基準\n",
        "本課題の目標は、課題を通して以下の項目が身についているかどうか確認することです。\n",
        "\n",
        "グローバルスコープとローカルスコープの違いを理解すること。\n",
        "スコープを意識したプログラムが書けるようになること。\n",
        "そのため、以下の項目がすべて満たされていれば合格です。\n",
        "\n",
        "番号\t合格基準\n",
        "1\tグローバルスコープとローカルスコープを意識したプログラムが記述されている\n",
        "\"\"\"\n",
        "price1 = 100\n",
        "price2 = 200\n",
        "tax = 1.1\n",
        "\n",
        "def total():\n",
        "    return price1 + price2\n",
        "\n",
        "print (total() * tax)"
      ]
    }
  ],
  "metadata": {
    "colab": {
      "provenance": []
    },
    "kernelspec": {
      "display_name": "Python 3",
      "name": "python3"
    },
    "language_info": {
      "codemirror_mode": {
        "name": "ipython",
        "version": 3
      },
      "file_extension": ".py",
      "mimetype": "text/x-python",
      "name": "python",
      "nbconvert_exporter": "python",
      "pygments_lexer": "ipython3",
      "version": "3.13.5"
    }
  },
  "nbformat": 4,
  "nbformat_minor": 0
}
