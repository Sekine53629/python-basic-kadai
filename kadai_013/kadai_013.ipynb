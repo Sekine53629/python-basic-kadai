{
  "cells": [
    {
      "cell_type": "code",
      "execution_count": 6,
      "metadata": {
        "id": "ss5RA5v6dSkd"
      },
      "outputs": [
        {
          "name": "stdout",
          "output_type": "stream",
          "text": [
            "121.0\n"
          ]
        }
      ],
      "source": [
        "\"\"\"\n",
        "課題の目標\n",
        "本課題の目標は以下のとおりです。\n",
        "\n",
        "Pythonで関数を使ったプログラムが書けるようになること。\n",
        "課題の内容\n",
        "商品購入時の消費税を、関数で計算するプログラムのソースコードを作成して提出してください。以下のヒントを参考にして、プログラムを作成してください。\n",
        "\n",
        "消費税を加えた計算結果を返す関数を記述する\n",
        "「結果を返す関数」なので戻り値を使用する\n",
        "第1引数に商品の金額「110」、第2引数に消費税（10%）の「10」を設定する\n",
        "\n",
        "作業上の注意事項\n",
        "計算結果で小数点が含まれる場合はそのまま表示してください。\n",
        "切り捨てや四捨五入などの処理は不要です。\n",
        "\n",
        "課題の参考\n",
        "以下の章を参考にして課題に取り組みましょう。\n",
        "\n",
        "12章 関数を理解しよう\n",
        "13章 関数の引数・戻り値を理解しよう\n",
        "合格基準\n",
        "本課題の目標は、課題を通して以下の項目が身についているかどうか確認することです。\n",
        "\n",
        "Pythonで関数を使ったプログラムが書けるようになること。\n",
        "そのため、以下の項目がすべて満たされていれば合格です。\n",
        "\n",
        "番号\t合格基準\n",
        "1\t「課題の内容」の仕様通りの関数が定義されている\n",
        "2\t定義した関数を呼び出し、使用されている\n",
        "3\t戻り値で計算結果を返していること\n",
        "4\t引数が適切に設定できていること\n",
        "\n",
        "\"\"\"\n",
        "def tax_caliculater(price,tax_rate):\n",
        "    total_amount = price + price * (tax_rate/100)\n",
        "    return total_amount\n",
        "\n",
        "answer = tax_caliculater(110,10)\n",
        "\n",
        "print(answer)"
      ]
    }
  ],
  "metadata": {
    "colab": {
      "provenance": []
    },
    "kernelspec": {
      "display_name": "Python 3",
      "name": "python3"
    },
    "language_info": {
      "codemirror_mode": {
        "name": "ipython",
        "version": 3
      },
      "file_extension": ".py",
      "mimetype": "text/x-python",
      "name": "python",
      "nbconvert_exporter": "python",
      "pygments_lexer": "ipython3",
      "version": "3.13.5"
    }
  },
  "nbformat": 4,
  "nbformat_minor": 0
}
