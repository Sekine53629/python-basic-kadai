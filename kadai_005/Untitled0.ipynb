{
  "cells": [
    {
      "cell_type": "code",
      "execution_count": 4,
      "metadata": {},
      "outputs": [
        {
          "name": "stdout",
          "output_type": "stream",
          "text": [
            "75.0 （cm²）\n"
          ]
        }
      ],
      "source": [
        "\"\"\"\n",
        "台形の面積を求めよ\n",
        "上辺：10cm\n",
        "下辺：20cm\n",
        "高さ：5cm\n",
        "\n",
        "公式：台形の面積 =（上辺＋下辺）× 高さ ÷ 2 %\n",
        "\"\"\"\n",
        "upper_base = 10;\n",
        "lower_base = 20;\n",
        "height = 5;\n",
        "\n",
        "calculate_trapezoid_area = (upper_base + lower_base) * height / 2;\n",
        "\n",
        "print(f\"{calculate_trapezoid_area} （cm²）\");"
      ]
    }
  ],
  "metadata": {
    "colab": {
      "provenance": []
    },
    "kernelspec": {
      "display_name": "Python 3",
      "name": "python3"
    },
    "language_info": {
      "codemirror_mode": {
        "name": "ipython",
        "version": 3
      },
      "file_extension": ".py",
      "mimetype": "text/x-python",
      "name": "python",
      "nbconvert_exporter": "python",
      "pygments_lexer": "ipython3",
      "version": "3.13.5"
    }
  },
  "nbformat": 4,
  "nbformat_minor": 0
}
