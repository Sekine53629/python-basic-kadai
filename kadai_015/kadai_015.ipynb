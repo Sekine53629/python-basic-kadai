{
  "cells": [
    {
      "cell_type": "code",
      "execution_count": 4,
      "metadata": {
        "id": "MivkXYYr_Djk"
      },
      "outputs": [
        {
          "name": "stdout",
          "output_type": "stream",
          "text": [
            "名前：Ken 年齢：14\n"
          ]
        }
      ],
      "source": [
        "\"\"\"\n",
        "課題の目標\n",
        "本課題の目標は以下のとおりです。\n",
        "\n",
        "Pythonでクラスを使ったプログラムが書けるようになること。\n",
        "属性とメソッドについて理解すること。\n",
        "課題の内容\n",
        "名前(name)と年齢(age)の属性を持つHumanクラスを作成してください。\n",
        "nameとageを標準出力(print)するメソッド(printinfo)を追加してください。\n",
        "\n",
        "Humanクラスのインスタンスは、変数に代入してプログラム内で使用してください。\n",
        "\n",
        "合格基準\n",
        "本課題の目標は、課題を通して以下の項目が身についているかどうか確認することです。\n",
        "\n",
        "Pythonでクラスを使ったプログラムが書けるようになること。\n",
        "属性とメソッドについて理解すること。\n",
        "そのため、以下の項目がすべて満たされていれば合格です。\n",
        "\n",
        "番号\t合格基準\n",
        "1\t「課題の内容」の仕様通りのクラスが定義されている\n",
        "2\tHumanクラスのインスタンスが変数に代入されている\n",
        "3\t定義したクラスに属するメソッド(printinfo)を使用し、名前(name)と年齢(age)が出力されている\n",
        "\"\"\"\n",
        "class Human:\n",
        "    def __init__(self):\n",
        "        self.name = \"\"\n",
        "        self.age = \"\"\n",
        "    \n",
        "    def set_info(self, name, age):\n",
        "        self.name = name\n",
        "        self.age = age\n",
        "\n",
        "    def printinfo(self):\n",
        "        print(f\"名前：{self.name} 年齢：{self.age}\")\n",
        "\n",
        "Ken = Human()\n",
        "\n",
        "Ken.set_info(\"Ken\", 14)\n",
        "\n",
        "Ken.printinfo()"
      ]
    }
  ],
  "metadata": {
    "colab": {
      "provenance": []
    },
    "kernelspec": {
      "display_name": "Python 3",
      "name": "python3"
    },
    "language_info": {
      "codemirror_mode": {
        "name": "ipython",
        "version": 3
      },
      "file_extension": ".py",
      "mimetype": "text/x-python",
      "name": "python",
      "nbconvert_exporter": "python",
      "pygments_lexer": "ipython3",
      "version": "3.13.5"
    }
  },
  "nbformat": 4,
  "nbformat_minor": 0
}
